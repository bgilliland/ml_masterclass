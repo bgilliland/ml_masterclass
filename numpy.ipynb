{
 "cells": [
  {
   "cell_type": "markdown",
   "metadata": {},
   "source": [
    "# a few key numpy functionalities"
   ]
  },
  {
   "cell_type": "code",
   "execution_count": 34,
   "metadata": {},
   "outputs": [],
   "source": [
    "import numpy as np"
   ]
  },
  {
   "cell_type": "code",
   "execution_count": 35,
   "metadata": {},
   "outputs": [
    {
     "data": {
      "text/plain": [
       "array([ 0,  3,  6,  9, 12, 15, 18, 21, 24])"
      ]
     },
     "execution_count": 35,
     "metadata": {},
     "output_type": "execute_result"
    }
   ],
   "source": [
    "# returns a range of values (stop, start, by)\n",
    "np.arange(0,25,3)"
   ]
  },
  {
   "cell_type": "code",
   "execution_count": 30,
   "metadata": {},
   "outputs": [
    {
     "data": {
      "text/plain": [
       "array([[ 0,  1,  2,  3,  4],\n",
       "       [ 5,  6,  7,  8,  9],\n",
       "       [10, 11, 12, 13, 14],\n",
       "       [15, 16, 17, 18, 19],\n",
       "       [20, 21, 22, 23, 24]])"
      ]
     },
     "execution_count": 30,
     "metadata": {},
     "output_type": "execute_result"
    }
   ],
   "source": [
    "# rehsape an array into whatever dimensions you prefer. arr len needs to be equal to RxC\n",
    "arr = np.arange(0,25)\n",
    "arr.reshape(5,5)"
   ]
  },
  {
   "cell_type": "markdown",
   "metadata": {},
   "source": [
    "## numpy has its own library of 'random' functionalities"
   ]
  },
  {
   "cell_type": "code",
   "execution_count": 6,
   "metadata": {},
   "outputs": [
    {
     "data": {
      "text/plain": [
       "array([[0.42630906, 0.95860363, 0.35648776, 0.59787204, 0.41475011],\n",
       "       [0.45226081, 0.6629826 , 0.87670986, 0.37583117, 0.37180994],\n",
       "       [0.64846002, 0.88940441, 0.61151466, 0.06392212, 0.37921736],\n",
       "       [0.70820924, 0.23145065, 0.25701777, 0.19361033, 0.31886887],\n",
       "       [0.21197444, 0.93739953, 0.90980976, 0.4539825 , 0.86611471]])"
      ]
     },
     "execution_count": 6,
     "metadata": {},
     "output_type": "execute_result"
    }
   ],
   "source": [
    "# returns an array sampled from a uniform [0,1) distribution\n",
    "# parameters are just integers which specify the dimension of the array\n",
    "np.random.rand(5,5)"
   ]
  },
  {
   "cell_type": "code",
   "execution_count": 7,
   "metadata": {},
   "outputs": [
    {
     "data": {
      "text/plain": [
       "array([[ 1.83766062, -0.88910577, -0.6843299 , -1.24520933,  0.00744178],\n",
       "       [ 0.58898323,  0.69554783, -0.85726613,  1.12738692,  0.18896729],\n",
       "       [ 0.06572242, -1.06790734, -0.42969823, -0.3575806 , -0.47596191],\n",
       "       [ 1.43404038,  0.25902121,  1.31601972,  0.51447563, -0.48534696],\n",
       "       [-0.35277959, -0.05809634,  0.12122169,  1.78970056, -1.24657901]])"
      ]
     },
     "execution_count": 7,
     "metadata": {},
     "output_type": "execute_result"
    }
   ],
   "source": [
    "# reutrns array from standard normal distribution\n",
    "np.random.randn(5,5)"
   ]
  },
  {
   "cell_type": "code",
   "execution_count": 25,
   "metadata": {},
   "outputs": [
    {
     "data": {
      "text/plain": [
       "array([[11,  9, 13, 11],\n",
       "       [ 2,  8, 20, 15]])"
      ]
     },
     "execution_count": 25,
     "metadata": {},
     "output_type": "execute_result"
    }
   ],
   "source": [
    "# returns random integers from uniform distribution specified by user. pass a tuple to make it a matrix of size RxC\n",
    "np.random.randint(0,101,(5,5))\n",
    "\n",
    "# lower/upper bounds can be lists. this returns three numbers with 3 different lower bounds (upper bound is 15)\n",
    "np.random.randint([9,8,7], 15)\n",
    "\n",
    "# this returns three numbers: one number between 9 and 10, another between 8 and 11, and another between 7 and 12\n",
    "np.random.randint([9,8,7],[10,11,12])\n",
    "\n",
    "# can return a matrix by broadcasting\n",
    "np.random.randint([2,4,6,8],[[15],[30]])"
   ]
  },
  {
   "cell_type": "code",
   "execution_count": 33,
   "metadata": {},
   "outputs": [
    {
     "data": {
      "text/plain": [
       "array([[3, 4, 2, 4, 4],\n",
       "       [1, 2, 2, 2, 4],\n",
       "       [3, 2, 4, 1, 3],\n",
       "       [1, 3, 4, 0, 3],\n",
       "       [1, 4, 3, 0, 0]])"
      ]
     },
     "execution_count": 33,
     "metadata": {},
     "output_type": "execute_result"
    }
   ],
   "source": [
    "# seed setting\n",
    "# seed will only work if rest of code is in the same cell\n",
    "np.random.seed(42)\n",
    "np.random.randint(0,5,(5,5))"
   ]
  },
  {
   "cell_type": "code",
   "execution_count": null,
   "metadata": {},
   "outputs": [],
   "source": []
  }
 ],
 "metadata": {
  "kernelspec": {
   "display_name": "ML_MasterClass-izriKbLn",
   "language": "python",
   "name": "python3"
  },
  "language_info": {
   "codemirror_mode": {
    "name": "ipython",
    "version": 3
   },
   "file_extension": ".py",
   "mimetype": "text/x-python",
   "name": "python",
   "nbconvert_exporter": "python",
   "pygments_lexer": "ipython3",
   "version": "3.9.16"
  }
 },
 "nbformat": 4,
 "nbformat_minor": 2
}
